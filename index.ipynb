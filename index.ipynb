{
 "cells": [
  {
   "cell_type": "markdown",
   "metadata": {},
   "source": [
    "# OOP 2020"
   ]
  },
  {
   "cell_type": "markdown",
   "metadata": {},
   "source": [
    "## 9. GRA SIECIOWA"
   ]
  },
  {
   "cell_type": "markdown",
   "metadata": {},
   "source": [
    "#### Links"
   ]
  },
  {
   "cell_type": "markdown",
   "metadata": {},
   "source": [
    "- [Qt QML](https://doc.qt.io/qt-5/qtqml-index.html)\n",
    "- [QML Applications](https://doc.qt.io/qt-5/qmlapplications.html)\n",
    "- [Introducing Qt Quick Controls in Qt 5.1](https://www.youtube.com/watch?v=_6_F6Kpjd-Q)\n",
    "- [QML - Integration with C++ {tutorial}](https://www.youtube.com/watch?v=e35ugcY2aOk)\n",
    "- [First Steps with QML](https://doc.qt.io/qt-5/qmlfirststeps.html)\n",
    "- [QtWS17 QML For C++ Developers, Bo Thorsen, Viking Software](https://www.youtube.com/watch?v=Vh7BxaYuszo)\n",
    "- [Interacting with QML Objects from C++](https://doc.qt.io/qt-5/qtqml-cppintegration-interactqmlfromcpp.html)\n",
    "- [The Qt Resource System](https://doc.qt.io/qt-5/resources.html)\n",
    "- [Resource Compiler (rcc)](https://doc.qt.io/qt-5/rcc.html)"
   ]
  },
  {
   "cell_type": "markdown",
   "metadata": {},
   "source": [
    "#### Tasks"
   ]
  },
  {
   "cell_type": "markdown",
   "metadata": {},
   "source": [
    "1. Create game"
   ]
  },
  {
   "cell_type": "markdown",
   "metadata": {},
   "source": [
    "#### Edit the code"
   ]
  },
  {
   "cell_type": "code",
   "execution_count": null,
   "metadata": {},
   "outputs": [
    {
     "name": "stdout",
     "output_type": "stream",
     "text": [
      "QStandardPaths: XDG_RUNTIME_DIR not set, defaulting to '/tmp/runtime-student'\n",
      "Info: creating stash file /home/student/oop_2020_gra_sieciowa/build-project-Desktop-Debug/.qmake.stash\n",
      "Info: creating stash file /home/student/oop_2020_gra_sieciowa/build-project-Desktop-Debug/client/.qmake.stash\n",
      "Info: creating stash file /home/student/oop_2020_gra_sieciowa/build-project-Desktop-Debug/server/.qmake.stash\n"
     ]
    }
   ],
   "source": [
    "! qtcreator"
   ]
  },
  {
   "cell_type": "markdown",
   "metadata": {},
   "source": [
    "#### Build the code"
   ]
  },
  {
   "cell_type": "code",
   "execution_count": null,
   "metadata": {},
   "outputs": [],
   "source": [
    "! rm -rf build-project"
   ]
  },
  {
   "cell_type": "code",
   "execution_count": null,
   "metadata": {},
   "outputs": [],
   "source": [
    "! mkdir build-project"
   ]
  },
  {
   "cell_type": "code",
   "execution_count": null,
   "metadata": {},
   "outputs": [],
   "source": [
    "! cd build-project && /usr/bin/qmake ../project"
   ]
  },
  {
   "cell_type": "code",
   "execution_count": null,
   "metadata": {},
   "outputs": [],
   "source": [
    "! cd build-project && make -j4"
   ]
  },
  {
   "cell_type": "code",
   "execution_count": null,
   "metadata": {},
   "outputs": [],
   "source": [
    "! build-project/project"
   ]
  },
  {
   "cell_type": "markdown",
   "metadata": {},
   "source": [
    "Stop above cell or close the window."
   ]
  }
 ],
 "metadata": {
  "kernelspec": {
   "display_name": "Python 3",
   "language": "python",
   "name": "python3"
  },
  "language_info": {
   "codemirror_mode": {
    "name": "ipython",
    "version": 3
   },
   "file_extension": ".py",
   "mimetype": "text/x-python",
   "name": "python",
   "nbconvert_exporter": "python",
   "pygments_lexer": "ipython3",
   "version": "3.8.3"
  }
 },
 "nbformat": 4,
 "nbformat_minor": 4
}
